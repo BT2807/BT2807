{
  "cells": [
    {
      "cell_type": "markdown",
      "id": "023d771c",
      "metadata": {
        "id": "023d771c"
      },
      "source": [
        "[![Open In Colab](https://colab.research.google.com/assets/colab-badge.svg)](https://colab.research.google.com/github/pinecone-io/examples/blob/master/docs/quick-tour/hello-pinecone.ipynb) [![Open nbviewer](https://raw.githubusercontent.com/pinecone-io/examples/master/assets/nbviewer-shield.svg)](https://nbviewer.org/github/pinecone-io/examples/blob/master/docs/quick-tour/hello-pinecone.ipynb)"
      ]
    },
    {
      "cell_type": "markdown",
      "id": "conceptual-belfast",
      "metadata": {
        "id": "conceptual-belfast",
        "papermill": {
          "duration": 0.028714,
          "end_time": "2021-04-16T15:08:30.639231",
          "exception": false,
          "start_time": "2021-04-16T15:08:30.610517",
          "status": "completed"
        },
        "tags": []
      },
      "source": [
        "# Hello, Pinecone!\n",
        "\n",
        "This notebook will walk through the steps to get a simple Pinecone index up and running.\n"
      ]
    },
    {
      "cell_type": "markdown",
      "id": "first-affairs",
      "metadata": {
        "id": "first-affairs",
        "papermill": {
          "duration": 0.025469,
          "end_time": "2021-04-16T15:08:30.690710",
          "exception": false,
          "start_time": "2021-04-16T15:08:30.665241",
          "status": "completed"
        },
        "tags": []
      },
      "source": [
        "## Prerequisites"
      ]
    },
    {
      "cell_type": "markdown",
      "id": "banned-huntington",
      "metadata": {
        "id": "banned-huntington",
        "papermill": {
          "duration": 0.023078,
          "end_time": "2021-04-16T15:08:30.737798",
          "exception": false,
          "start_time": "2021-04-16T15:08:30.714720",
          "status": "completed"
        },
        "tags": []
      },
      "source": [
        "Install dependencies."
      ]
    },
    {
      "cell_type": "code",
      "execution_count": 2,
      "id": "parallel-detective",
      "metadata": {
        "execution": {
          "iopub.execute_input": "2021-04-16T15:08:30.790085Z",
          "iopub.status.busy": "2021-04-16T15:08:30.789322Z",
          "iopub.status.idle": "2021-04-16T15:08:48.879840Z",
          "shell.execute_reply": "2021-04-16T15:08:48.880935Z"
        },
        "id": "parallel-detective",
        "papermill": {
          "duration": 18.119125,
          "end_time": "2021-04-16T15:08:48.881643",
          "exception": false,
          "start_time": "2021-04-16T15:08:30.762518",
          "status": "completed"
        },
        "tags": [],
        "outputId": "7abe2930-28f3-48f9-8908-5c1bc944fd1f",
        "colab": {
          "base_uri": "https://localhost:8080/"
        }
      },
      "outputs": [
        {
          "output_type": "stream",
          "name": "stdout",
          "text": [
            "Requirement already satisfied: pinecone-client in /usr/local/lib/python3.10/dist-packages (2.2.4)\n",
            "Requirement already satisfied: requests>=2.19.0 in /usr/local/lib/python3.10/dist-packages (from pinecone-client) (2.31.0)\n",
            "Requirement already satisfied: pyyaml>=5.4 in /usr/local/lib/python3.10/dist-packages (from pinecone-client) (6.0.1)\n",
            "Requirement already satisfied: loguru>=0.5.0 in /usr/local/lib/python3.10/dist-packages (from pinecone-client) (0.7.2)\n",
            "Requirement already satisfied: typing-extensions>=3.7.4 in /usr/local/lib/python3.10/dist-packages (from pinecone-client) (4.5.0)\n",
            "Requirement already satisfied: dnspython>=2.0.0 in /usr/local/lib/python3.10/dist-packages (from pinecone-client) (2.4.2)\n",
            "Requirement already satisfied: python-dateutil>=2.5.3 in /usr/local/lib/python3.10/dist-packages (from pinecone-client) (2.8.2)\n",
            "Requirement already satisfied: urllib3>=1.21.1 in /usr/local/lib/python3.10/dist-packages (from pinecone-client) (2.0.7)\n",
            "Requirement already satisfied: tqdm>=4.64.1 in /usr/local/lib/python3.10/dist-packages (from pinecone-client) (4.66.1)\n",
            "Requirement already satisfied: numpy>=1.22.0 in /usr/local/lib/python3.10/dist-packages (from pinecone-client) (1.23.5)\n",
            "Requirement already satisfied: six>=1.5 in /usr/local/lib/python3.10/dist-packages (from python-dateutil>=2.5.3->pinecone-client) (1.16.0)\n",
            "Requirement already satisfied: charset-normalizer<4,>=2 in /usr/local/lib/python3.10/dist-packages (from requests>=2.19.0->pinecone-client) (3.3.2)\n",
            "Requirement already satisfied: idna<4,>=2.5 in /usr/local/lib/python3.10/dist-packages (from requests>=2.19.0->pinecone-client) (3.4)\n",
            "Requirement already satisfied: certifi>=2017.4.17 in /usr/local/lib/python3.10/dist-packages (from requests>=2.19.0->pinecone-client) (2023.7.22)\n"
          ]
        }
      ],
      "source": [
        "!pip install --upgrade pinecone-client"
      ]
    },
    {
      "cell_type": "markdown",
      "id": "outer-cartridge",
      "metadata": {
        "id": "outer-cartridge",
        "papermill": {
          "duration": 0.022118,
          "end_time": "2021-04-16T15:08:48.932208",
          "exception": false,
          "start_time": "2021-04-16T15:08:48.910090",
          "status": "completed"
        },
        "tags": []
      },
      "source": [
        "Set up Pinecone. Get your Pinecone API key [here](https://www.pinecone.io/start)."
      ]
    },
    {
      "cell_type": "markdown",
      "id": "forbidden-indication",
      "metadata": {
        "id": "forbidden-indication",
        "papermill": {
          "duration": 0.020515,
          "end_time": "2021-04-16T15:08:49.925687",
          "exception": false,
          "start_time": "2021-04-16T15:08:49.905172",
          "status": "completed"
        },
        "tags": []
      },
      "source": [
        "## Pinecone quickstart\n",
        "\n",
        "With Pinecone you can create a vector index where you can store and search through your vectors."
      ]
    },
    {
      "cell_type": "code",
      "execution_count": 3,
      "id": "labeled-specialist",
      "metadata": {
        "colab": {
          "base_uri": "https://localhost:8080/"
        },
        "execution": {
          "iopub.execute_input": "2021-04-16T15:08:48.980520Z",
          "iopub.status.busy": "2021-04-16T15:08:48.979710Z",
          "iopub.status.idle": "2021-04-16T15:08:49.296796Z",
          "shell.execute_reply": "2021-04-16T15:08:49.296152Z"
        },
        "id": "labeled-specialist",
        "outputId": "a2ac2342-b51f-45ee-94ba-d415e7895bbd",
        "papermill": {
          "duration": 0.344059,
          "end_time": "2021-04-16T15:08:49.297021",
          "exception": false,
          "start_time": "2021-04-16T15:08:48.952962",
          "status": "completed"
        },
        "tags": []
      },
      "outputs": [
        {
          "output_type": "stream",
          "name": "stderr",
          "text": [
            "/usr/local/lib/python3.10/dist-packages/pinecone/index.py:4: TqdmExperimentalWarning: Using `tqdm.autonotebook.tqdm` in notebook mode. Use `tqdm.tqdm` instead to force console mode (e.g. in jupyter console)\n",
            "  from tqdm.autonotebook import tqdm\n"
          ]
        }
      ],
      "source": [
        "import os\n",
        "import pinecone\n",
        "\n",
        "# get api key from app.pinecone.io\n",
        "api_key = '31d9630a-fd17-440d-bae5-a82492ec3883'\n",
        "# find your environment next to the api key in pinecone console\n",
        "env = 'gcp-starter'\n",
        "\n",
        "pinecone.init(\n",
        "    api_key=api_key,\n",
        "    environment=env\n",
        ")"
      ]
    },
    {
      "cell_type": "code",
      "source": [
        "!pip install --upgrade pinecone-client"
      ],
      "metadata": {
        "id": "BG68QQ_WxOJl",
        "outputId": "00c387c7-5ad3-4452-bad0-7aef9a0bf552",
        "colab": {
          "base_uri": "https://localhost:8080/",
          "height": 515
        }
      },
      "id": "BG68QQ_WxOJl",
      "execution_count": 7,
      "outputs": [
        {
          "output_type": "stream",
          "name": "stdout",
          "text": [
            "Requirement already satisfied: pinecone-client in /usr/local/lib/python3.10/dist-packages (2.2.2)\n",
            "Collecting pinecone-client\n",
            "  Downloading pinecone_client-2.2.4-py3-none-any.whl (179 kB)\n",
            "\u001b[2K     \u001b[90m━━━━━━━━━━━━━━━━━━━━━━━━━━━━━━━━━━━━━━━━\u001b[0m \u001b[32m179.4/179.4 kB\u001b[0m \u001b[31m4.1 MB/s\u001b[0m eta \u001b[36m0:00:00\u001b[0m\n",
            "\u001b[?25hRequirement already satisfied: requests>=2.19.0 in /usr/local/lib/python3.10/dist-packages (from pinecone-client) (2.31.0)\n",
            "Requirement already satisfied: pyyaml>=5.4 in /usr/local/lib/python3.10/dist-packages (from pinecone-client) (6.0.1)\n",
            "Requirement already satisfied: loguru>=0.5.0 in /usr/local/lib/python3.10/dist-packages (from pinecone-client) (0.7.2)\n",
            "Requirement already satisfied: typing-extensions>=3.7.4 in /usr/local/lib/python3.10/dist-packages (from pinecone-client) (4.5.0)\n",
            "Requirement already satisfied: dnspython>=2.0.0 in /usr/local/lib/python3.10/dist-packages (from pinecone-client) (2.4.2)\n",
            "Requirement already satisfied: python-dateutil>=2.5.3 in /usr/local/lib/python3.10/dist-packages (from pinecone-client) (2.8.2)\n",
            "Requirement already satisfied: urllib3>=1.21.1 in /usr/local/lib/python3.10/dist-packages (from pinecone-client) (2.0.7)\n",
            "Requirement already satisfied: tqdm>=4.64.1 in /usr/local/lib/python3.10/dist-packages (from pinecone-client) (4.66.1)\n",
            "Requirement already satisfied: numpy>=1.22.0 in /usr/local/lib/python3.10/dist-packages (from pinecone-client) (1.23.5)\n",
            "Requirement already satisfied: six>=1.5 in /usr/local/lib/python3.10/dist-packages (from python-dateutil>=2.5.3->pinecone-client) (1.16.0)\n",
            "Requirement already satisfied: charset-normalizer<4,>=2 in /usr/local/lib/python3.10/dist-packages (from requests>=2.19.0->pinecone-client) (3.3.2)\n",
            "Requirement already satisfied: idna<4,>=2.5 in /usr/local/lib/python3.10/dist-packages (from requests>=2.19.0->pinecone-client) (3.4)\n",
            "Requirement already satisfied: certifi>=2017.4.17 in /usr/local/lib/python3.10/dist-packages (from requests>=2.19.0->pinecone-client) (2023.7.22)\n",
            "Installing collected packages: pinecone-client\n",
            "  Attempting uninstall: pinecone-client\n",
            "    Found existing installation: pinecone-client 2.2.2\n",
            "    Uninstalling pinecone-client-2.2.2:\n",
            "      Successfully uninstalled pinecone-client-2.2.2\n",
            "Successfully installed pinecone-client-2.2.4\n"
          ]
        },
        {
          "output_type": "display_data",
          "data": {
            "application/vnd.colab-display-data+json": {
              "pip_warning": {
                "packages": [
                  "pinecone"
                ]
              }
            }
          },
          "metadata": {}
        }
      ]
    },
    {
      "cell_type": "code",
      "source": [
        "import pinecone.info\n",
        "\n",
        "version_info = pinecone.info.version()\n",
        "server_version = \".\".join(version_info.server.split(\".\")[:2])\n",
        "client_version = \".\".join(version_info.client.split(\".\")[:2])\n",
        "\n",
        "assert client_version == server_version, \"Please upgrade pinecone-client.\""
      ],
      "metadata": {
        "id": "VVisqQplwCMX",
        "outputId": "b0ccf153-477a-4c01-8c3c-a8eb03f0e4cd",
        "colab": {
          "base_uri": "https://localhost:8080/",
          "height": 213
        }
      },
      "id": "VVisqQplwCMX",
      "execution_count": 4,
      "outputs": [
        {
          "output_type": "error",
          "ename": "AssertionError",
          "evalue": "ignored",
          "traceback": [
            "\u001b[0;31m---------------------------------------------------------------------------\u001b[0m",
            "\u001b[0;31mAssertionError\u001b[0m                            Traceback (most recent call last)",
            "\u001b[0;32m<ipython-input-4-5aa066ec6e19>\u001b[0m in \u001b[0;36m<cell line: 7>\u001b[0;34m()\u001b[0m\n\u001b[1;32m      5\u001b[0m \u001b[0mclient_version\u001b[0m \u001b[0;34m=\u001b[0m \u001b[0;34m\".\"\u001b[0m\u001b[0;34m.\u001b[0m\u001b[0mjoin\u001b[0m\u001b[0;34m(\u001b[0m\u001b[0mversion_info\u001b[0m\u001b[0;34m.\u001b[0m\u001b[0mclient\u001b[0m\u001b[0;34m.\u001b[0m\u001b[0msplit\u001b[0m\u001b[0;34m(\u001b[0m\u001b[0;34m\".\"\u001b[0m\u001b[0;34m)\u001b[0m\u001b[0;34m[\u001b[0m\u001b[0;34m:\u001b[0m\u001b[0;36m2\u001b[0m\u001b[0;34m]\u001b[0m\u001b[0;34m)\u001b[0m\u001b[0;34m\u001b[0m\u001b[0;34m\u001b[0m\u001b[0m\n\u001b[1;32m      6\u001b[0m \u001b[0;34m\u001b[0m\u001b[0m\n\u001b[0;32m----> 7\u001b[0;31m \u001b[0;32massert\u001b[0m \u001b[0mclient_version\u001b[0m \u001b[0;34m==\u001b[0m \u001b[0mserver_version\u001b[0m\u001b[0;34m,\u001b[0m \u001b[0;34m\"Please upgrade pinecone-client.\"\u001b[0m\u001b[0;34m\u001b[0m\u001b[0;34m\u001b[0m\u001b[0m\n\u001b[0m",
            "\u001b[0;31mAssertionError\u001b[0m: Please upgrade pinecone-client."
          ]
        }
      ]
    },
    {
      "cell_type": "code",
      "execution_count": 5,
      "id": "EA2EcZsCoWS3",
      "metadata": {
        "id": "EA2EcZsCoWS3",
        "tags": [
          "parameters"
        ]
      },
      "outputs": [],
      "source": [
        "# Giving our index a name\n",
        "index_name = \"hello-pinecone\""
      ]
    },
    {
      "cell_type": "code",
      "execution_count": 6,
      "id": "synthetic-essex",
      "metadata": {
        "execution": {
          "iopub.execute_input": "2021-04-16T15:08:49.974096Z",
          "iopub.status.busy": "2021-04-16T15:08:49.972856Z",
          "iopub.status.idle": "2021-04-16T15:08:50.392796Z",
          "shell.execute_reply": "2021-04-16T15:08:50.391552Z"
        },
        "id": "synthetic-essex",
        "papermill": {
          "duration": 0.446682,
          "end_time": "2021-04-16T15:08:50.393195",
          "exception": false,
          "start_time": "2021-04-16T15:08:49.946513",
          "status": "completed"
        },
        "tags": []
      },
      "outputs": [],
      "source": [
        "# Delete the index, if an index of the same name already exists\n",
        "if index_name in pinecone.list_indexes():\n",
        "    pinecone.delete_index(index_name)"
      ]
    },
    {
      "cell_type": "markdown",
      "id": "94LRI2H8Ch2B",
      "metadata": {
        "id": "94LRI2H8Ch2B",
        "papermill": {
          "duration": 0.021764,
          "end_time": "2021-04-16T15:08:50.446400",
          "exception": false,
          "start_time": "2021-04-16T15:08:50.424636",
          "status": "completed"
        },
        "tags": []
      },
      "source": [
        "Creating a Pinecone Index."
      ]
    },
    {
      "cell_type": "code",
      "execution_count": 7,
      "id": "4YwC8livCrn2",
      "metadata": {
        "execution": {
          "iopub.execute_input": "2021-04-16T15:08:50.497478Z",
          "iopub.status.busy": "2021-04-16T15:08:50.496767Z",
          "iopub.status.idle": "2021-04-16T15:09:04.224132Z",
          "shell.execute_reply": "2021-04-16T15:09:04.223529Z"
        },
        "id": "4YwC8livCrn2",
        "papermill": {
          "duration": 13.756687,
          "end_time": "2021-04-16T15:09:04.224466",
          "exception": false,
          "start_time": "2021-04-16T15:08:50.467779",
          "status": "completed"
        },
        "tags": []
      },
      "outputs": [],
      "source": [
        "import time\n",
        "\n",
        "dimensions = 3\n",
        "pinecone.create_index(name=index_name, dimension=dimensions, metric=\"cosine\")\n",
        "\n",
        "# wait for index to be ready before connecting\n",
        "while not pinecone.describe_index(index_name).status['ready']:\n",
        "    time.sleep(1)"
      ]
    },
    {
      "cell_type": "code",
      "execution_count": 8,
      "id": "toy-VhU4LO_O",
      "metadata": {
        "execution": {
          "iopub.execute_input": "2021-04-16T15:09:04.283700Z",
          "iopub.status.busy": "2021-04-16T15:09:04.282289Z",
          "iopub.status.idle": "2021-04-16T15:09:05.096982Z",
          "shell.execute_reply": "2021-04-16T15:09:05.096019Z"
        },
        "id": "toy-VhU4LO_O",
        "papermill": {
          "duration": 0.846255,
          "end_time": "2021-04-16T15:09:05.097384",
          "exception": false,
          "start_time": "2021-04-16T15:09:04.251129",
          "status": "completed"
        },
        "tags": []
      },
      "outputs": [],
      "source": [
        "index = pinecone.Index(index_name=index_name)"
      ]
    },
    {
      "cell_type": "markdown",
      "id": "j1F8SLx6C2HH",
      "metadata": {
        "id": "j1F8SLx6C2HH",
        "papermill": {
          "duration": 0.023037,
          "end_time": "2021-04-16T15:09:05.153116",
          "exception": false,
          "start_time": "2021-04-16T15:09:05.130079",
          "status": "completed"
        },
        "tags": []
      },
      "source": [
        "We have the index ready. Now we will create some simple vectors that will serve as our examples."
      ]
    },
    {
      "cell_type": "code",
      "execution_count": 9,
      "id": "indirect-lafayette",
      "metadata": {
        "colab": {
          "base_uri": "https://localhost:8080/",
          "height": 310
        },
        "execution": {
          "iopub.execute_input": "2021-04-16T15:09:05.206498Z",
          "iopub.status.busy": "2021-04-16T15:09:05.205699Z",
          "iopub.status.idle": "2021-04-16T15:09:05.404333Z",
          "shell.execute_reply": "2021-04-16T15:09:05.403743Z"
        },
        "id": "indirect-lafayette",
        "outputId": "dbed8ff1-fb65-4a40-e4dc-2d855418a53a",
        "papermill": {
          "duration": 0.227373,
          "end_time": "2021-04-16T15:09:05.404700",
          "exception": false,
          "start_time": "2021-04-16T15:09:05.177327",
          "status": "completed"
        },
        "tags": []
      },
      "outputs": [
        {
          "output_type": "execute_result",
          "data": {
            "text/plain": [
              "  id           vector\n",
              "0  A  [1.0, 1.0, 1.0]\n",
              "1  B  [1.0, 2.0, 3.0]"
            ],
            "text/html": [
              "\n",
              "  <div id=\"df-daf43f9f-059a-4474-8bd3-d8aede789f23\" class=\"colab-df-container\">\n",
              "    <div>\n",
              "<style scoped>\n",
              "    .dataframe tbody tr th:only-of-type {\n",
              "        vertical-align: middle;\n",
              "    }\n",
              "\n",
              "    .dataframe tbody tr th {\n",
              "        vertical-align: top;\n",
              "    }\n",
              "\n",
              "    .dataframe thead th {\n",
              "        text-align: right;\n",
              "    }\n",
              "</style>\n",
              "<table border=\"1\" class=\"dataframe\">\n",
              "  <thead>\n",
              "    <tr style=\"text-align: right;\">\n",
              "      <th></th>\n",
              "      <th>id</th>\n",
              "      <th>vector</th>\n",
              "    </tr>\n",
              "  </thead>\n",
              "  <tbody>\n",
              "    <tr>\n",
              "      <th>0</th>\n",
              "      <td>A</td>\n",
              "      <td>[1.0, 1.0, 1.0]</td>\n",
              "    </tr>\n",
              "    <tr>\n",
              "      <th>1</th>\n",
              "      <td>B</td>\n",
              "      <td>[1.0, 2.0, 3.0]</td>\n",
              "    </tr>\n",
              "  </tbody>\n",
              "</table>\n",
              "</div>\n",
              "    <div class=\"colab-df-buttons\">\n",
              "\n",
              "  <div class=\"colab-df-container\">\n",
              "    <button class=\"colab-df-convert\" onclick=\"convertToInteractive('df-daf43f9f-059a-4474-8bd3-d8aede789f23')\"\n",
              "            title=\"Convert this dataframe to an interactive table.\"\n",
              "            style=\"display:none;\">\n",
              "\n",
              "  <svg xmlns=\"http://www.w3.org/2000/svg\" height=\"24px\" viewBox=\"0 -960 960 960\">\n",
              "    <path d=\"M120-120v-720h720v720H120Zm60-500h600v-160H180v160Zm220 220h160v-160H400v160Zm0 220h160v-160H400v160ZM180-400h160v-160H180v160Zm440 0h160v-160H620v160ZM180-180h160v-160H180v160Zm440 0h160v-160H620v160Z\"/>\n",
              "  </svg>\n",
              "    </button>\n",
              "\n",
              "  <style>\n",
              "    .colab-df-container {\n",
              "      display:flex;\n",
              "      gap: 12px;\n",
              "    }\n",
              "\n",
              "    .colab-df-convert {\n",
              "      background-color: #E8F0FE;\n",
              "      border: none;\n",
              "      border-radius: 50%;\n",
              "      cursor: pointer;\n",
              "      display: none;\n",
              "      fill: #1967D2;\n",
              "      height: 32px;\n",
              "      padding: 0 0 0 0;\n",
              "      width: 32px;\n",
              "    }\n",
              "\n",
              "    .colab-df-convert:hover {\n",
              "      background-color: #E2EBFA;\n",
              "      box-shadow: 0px 1px 2px rgba(60, 64, 67, 0.3), 0px 1px 3px 1px rgba(60, 64, 67, 0.15);\n",
              "      fill: #174EA6;\n",
              "    }\n",
              "\n",
              "    .colab-df-buttons div {\n",
              "      margin-bottom: 4px;\n",
              "    }\n",
              "\n",
              "    [theme=dark] .colab-df-convert {\n",
              "      background-color: #3B4455;\n",
              "      fill: #D2E3FC;\n",
              "    }\n",
              "\n",
              "    [theme=dark] .colab-df-convert:hover {\n",
              "      background-color: #434B5C;\n",
              "      box-shadow: 0px 1px 3px 1px rgba(0, 0, 0, 0.15);\n",
              "      filter: drop-shadow(0px 1px 2px rgba(0, 0, 0, 0.3));\n",
              "      fill: #FFFFFF;\n",
              "    }\n",
              "  </style>\n",
              "\n",
              "    <script>\n",
              "      const buttonEl =\n",
              "        document.querySelector('#df-daf43f9f-059a-4474-8bd3-d8aede789f23 button.colab-df-convert');\n",
              "      buttonEl.style.display =\n",
              "        google.colab.kernel.accessAllowed ? 'block' : 'none';\n",
              "\n",
              "      async function convertToInteractive(key) {\n",
              "        const element = document.querySelector('#df-daf43f9f-059a-4474-8bd3-d8aede789f23');\n",
              "        const dataTable =\n",
              "          await google.colab.kernel.invokeFunction('convertToInteractive',\n",
              "                                                    [key], {});\n",
              "        if (!dataTable) return;\n",
              "\n",
              "        const docLinkHtml = 'Like what you see? Visit the ' +\n",
              "          '<a target=\"_blank\" href=https://colab.research.google.com/notebooks/data_table.ipynb>data table notebook</a>'\n",
              "          + ' to learn more about interactive tables.';\n",
              "        element.innerHTML = '';\n",
              "        dataTable['output_type'] = 'display_data';\n",
              "        await google.colab.output.renderOutput(dataTable, element);\n",
              "        const docLink = document.createElement('div');\n",
              "        docLink.innerHTML = docLinkHtml;\n",
              "        element.appendChild(docLink);\n",
              "      }\n",
              "    </script>\n",
              "  </div>\n",
              "\n",
              "\n",
              "<div id=\"df-a1ac3c05-e50b-4b34-957a-96408925ee21\">\n",
              "  <button class=\"colab-df-quickchart\" onclick=\"quickchart('df-a1ac3c05-e50b-4b34-957a-96408925ee21')\"\n",
              "            title=\"Suggest charts\"\n",
              "            style=\"display:none;\">\n",
              "\n",
              "<svg xmlns=\"http://www.w3.org/2000/svg\" height=\"24px\"viewBox=\"0 0 24 24\"\n",
              "     width=\"24px\">\n",
              "    <g>\n",
              "        <path d=\"M19 3H5c-1.1 0-2 .9-2 2v14c0 1.1.9 2 2 2h14c1.1 0 2-.9 2-2V5c0-1.1-.9-2-2-2zM9 17H7v-7h2v7zm4 0h-2V7h2v10zm4 0h-2v-4h2v4z\"/>\n",
              "    </g>\n",
              "</svg>\n",
              "  </button>\n",
              "\n",
              "<style>\n",
              "  .colab-df-quickchart {\n",
              "      --bg-color: #E8F0FE;\n",
              "      --fill-color: #1967D2;\n",
              "      --hover-bg-color: #E2EBFA;\n",
              "      --hover-fill-color: #174EA6;\n",
              "      --disabled-fill-color: #AAA;\n",
              "      --disabled-bg-color: #DDD;\n",
              "  }\n",
              "\n",
              "  [theme=dark] .colab-df-quickchart {\n",
              "      --bg-color: #3B4455;\n",
              "      --fill-color: #D2E3FC;\n",
              "      --hover-bg-color: #434B5C;\n",
              "      --hover-fill-color: #FFFFFF;\n",
              "      --disabled-bg-color: #3B4455;\n",
              "      --disabled-fill-color: #666;\n",
              "  }\n",
              "\n",
              "  .colab-df-quickchart {\n",
              "    background-color: var(--bg-color);\n",
              "    border: none;\n",
              "    border-radius: 50%;\n",
              "    cursor: pointer;\n",
              "    display: none;\n",
              "    fill: var(--fill-color);\n",
              "    height: 32px;\n",
              "    padding: 0;\n",
              "    width: 32px;\n",
              "  }\n",
              "\n",
              "  .colab-df-quickchart:hover {\n",
              "    background-color: var(--hover-bg-color);\n",
              "    box-shadow: 0 1px 2px rgba(60, 64, 67, 0.3), 0 1px 3px 1px rgba(60, 64, 67, 0.15);\n",
              "    fill: var(--button-hover-fill-color);\n",
              "  }\n",
              "\n",
              "  .colab-df-quickchart-complete:disabled,\n",
              "  .colab-df-quickchart-complete:disabled:hover {\n",
              "    background-color: var(--disabled-bg-color);\n",
              "    fill: var(--disabled-fill-color);\n",
              "    box-shadow: none;\n",
              "  }\n",
              "\n",
              "  .colab-df-spinner {\n",
              "    border: 2px solid var(--fill-color);\n",
              "    border-color: transparent;\n",
              "    border-bottom-color: var(--fill-color);\n",
              "    animation:\n",
              "      spin 1s steps(1) infinite;\n",
              "  }\n",
              "\n",
              "  @keyframes spin {\n",
              "    0% {\n",
              "      border-color: transparent;\n",
              "      border-bottom-color: var(--fill-color);\n",
              "      border-left-color: var(--fill-color);\n",
              "    }\n",
              "    20% {\n",
              "      border-color: transparent;\n",
              "      border-left-color: var(--fill-color);\n",
              "      border-top-color: var(--fill-color);\n",
              "    }\n",
              "    30% {\n",
              "      border-color: transparent;\n",
              "      border-left-color: var(--fill-color);\n",
              "      border-top-color: var(--fill-color);\n",
              "      border-right-color: var(--fill-color);\n",
              "    }\n",
              "    40% {\n",
              "      border-color: transparent;\n",
              "      border-right-color: var(--fill-color);\n",
              "      border-top-color: var(--fill-color);\n",
              "    }\n",
              "    60% {\n",
              "      border-color: transparent;\n",
              "      border-right-color: var(--fill-color);\n",
              "    }\n",
              "    80% {\n",
              "      border-color: transparent;\n",
              "      border-right-color: var(--fill-color);\n",
              "      border-bottom-color: var(--fill-color);\n",
              "    }\n",
              "    90% {\n",
              "      border-color: transparent;\n",
              "      border-bottom-color: var(--fill-color);\n",
              "    }\n",
              "  }\n",
              "</style>\n",
              "\n",
              "  <script>\n",
              "    async function quickchart(key) {\n",
              "      const quickchartButtonEl =\n",
              "        document.querySelector('#' + key + ' button');\n",
              "      quickchartButtonEl.disabled = true;  // To prevent multiple clicks.\n",
              "      quickchartButtonEl.classList.add('colab-df-spinner');\n",
              "      try {\n",
              "        const charts = await google.colab.kernel.invokeFunction(\n",
              "            'suggestCharts', [key], {});\n",
              "      } catch (error) {\n",
              "        console.error('Error during call to suggestCharts:', error);\n",
              "      }\n",
              "      quickchartButtonEl.classList.remove('colab-df-spinner');\n",
              "      quickchartButtonEl.classList.add('colab-df-quickchart-complete');\n",
              "    }\n",
              "    (() => {\n",
              "      let quickchartButtonEl =\n",
              "        document.querySelector('#df-a1ac3c05-e50b-4b34-957a-96408925ee21 button');\n",
              "      quickchartButtonEl.style.display =\n",
              "        google.colab.kernel.accessAllowed ? 'block' : 'none';\n",
              "    })();\n",
              "  </script>\n",
              "</div>\n",
              "    </div>\n",
              "  </div>\n"
            ]
          },
          "metadata": {},
          "execution_count": 9
        },
        {
          "output_type": "stream",
          "name": "stderr",
          "text": [
            "WARNING:root:Quickchart encountered unexpected dtypes in columns: \"(['vector'],)\"\n"
          ]
        },
        {
          "output_type": "display_data",
          "data": {
            "text/plain": [
              "<google.colab._quickchart_helpers.SectionTitle at 0x7d0a2f8911b0>"
            ],
            "text/html": [
              "<h4 class=\"colab-quickchart-section-title\">Categorical distributions</h4>\n",
              "<style>\n",
              "  .colab-quickchart-section-title {\n",
              "      clear: both;\n",
              "  }\n",
              "</style>"
            ]
          },
          "metadata": {}
        },
        {
          "output_type": "display_data",
          "data": {
            "text/plain": [
              "from matplotlib import pyplot as plt\n",
              "import seaborn as sns\n",
              "df.groupby('id').size().plot(kind='barh', color=sns.palettes.mpl_palette('Dark2'))\n",
              "plt.gca().spines[['top', 'right',]].set_visible(False)"
            ],
            "text/html": [
              "      <div class=\"colab-quickchart-chart-with-code\" id=\"chart-94d99e60-c3cd-463d-b584-98412f20601b\">\n",
              "        <img style=\"width: 180px;\" src=\"data:image/png;base64,iVBORw0KGgoAAAANSUhEUgAAAiAAAAGZCAYAAACwpIo8AAAAOXRFWHRTb2Z0d2FyZQBNYXRwbG90\n",
              "bGliIHZlcnNpb24zLjcuMSwgaHR0cHM6Ly9tYXRwbG90bGliLm9yZy/bCgiHAAAACXBIWXMAAA9h\n",
              "AAAPYQGoP6dpAAAQOUlEQVR4nO3de2iW9fvA8WttMqRSg18Hfyu3VlZmpmlJVIZ2IIkkKCqjKCrt\n",
              "QFBUZARBdAAjKogKMpEi+kc6nw+UYfVHZJh0BjWnfstOEK6DTbd9fn98abRfFk/lc93z2esFQ55n\n",
              "t3suLsTn7X3fc02llBIAAIl2qXoAAGD4ESAAQDoBAgCkEyAAQDoBAgCkEyAAQDoBAgCkEyAAQDoB\n",
              "AgCkG9IBcu+991Y9AgBQB0M6QNavX1/1CABAHQzpAAEAGpMAAQDSCRAAIJ0AAQDSCRAAIJ0AAQDS\n",
              "CRAAIJ0AAQDSCRAAIJ0AAQDSCRAAIJ0AAQDSCRAAIJ0AAQDSCRAAIJ0AAQDSCRAAIJ0AAQDSCRAA\n",
              "IJ0AAQDSCRAAIJ0AAQDSCRAAIJ0AAQDSCRAAIJ0AAQDSCRAAIJ0AAQDSCRAAIJ0AAQDSCRAAIJ0A\n",
              "AQDSCRAAIJ0AAQDSCRAAIJ0AAQDSCRAAIJ0AAQDSCRAAIJ0AAQDSCRAAIJ0AAQDSCRAAIJ0AAQDS\n",
              "NZVSStVD/JmLJjbFjUdpJADYkQ56pK/qEZwBAQDyCRAAIJ0AAQDSCRAAIJ0AAQDSCRAAIJ0AAQDS\n",
              "CRAAIJ0AAQDSCRAAIJ0AAQDSCRAAIJ0AAQDSCRAAIJ0AAQDSCRAAIJ0AAQDSCRAAIJ0AAQDSCRAA\n",
              "IJ0AAQDSCRAAIJ0AAQDSCRAAIJ0AAQDSCRAAIJ0AAQDSCRAAIJ0AAQDSCRAAIJ0AAQDSCRAAIJ0A\n",
              "AQDSCRAAIJ0AAQDSCRAAIJ0AAQDSCRAAIJ0AAQDSCRAAIJ0AAQDStdTzi3d0dERra2uMHDkyenp6\n",
              "4ogjjojFixfHrrvuWs+XBQCGuLqfAVm6dGmsWrUqPvnkk9i8eXM88sgj9X5JAGCIS7sEs3Xr1vjl\n",
              "l19ijz32yHpJAGCIquslmIiIc845J0aOHBldXV0xbdq0OPvss7d7XE9PT/T09Ax6rq+/3tMBAFVI\n",
              "uwTz/fffR0dHR9xwww3bPW7hwoUxevToQR8ffl/v6QCAKqRdgmlpaYkzzzwzXnnlle1+/sYbb4zN\n",
              "mzcP+jj8f7KmAwAy1f0SzO8tW7YsDj744O1+rrW1NVpbWwc91+ybhAGgIaXdA9Lb2xvt7e3x4IMP\n",
              "1vslAYAhrq4B0tXVVc8vDwDspFzkAADSCRAAIJ0AAQDSCRAAIJ0AAQDSCRAAIJ0AAQDSCRAAIJ0A\n",
              "AQDSCRAAIJ0AAQDSCRAAIJ0AAQDSCRAAIJ0AAQDSCRAAIJ0AAQDSCRAAIJ0AAQDSCRAAIJ0AAQDS\n",
              "CRAAIJ0AAQDSCRAAIJ0AAQDSCRAAIJ0AAQDSCRAAIJ0AAQDSCRAAIJ0AAQDSCRAAIJ0AAQDSCRAA\n",
              "IJ0AAQDSCRAAIJ0AAQDSCRAAIJ0AAQDSCRAAIJ0AAQDStVQ9wF/Z45Rr4qB77ql6DABgB3MGBABI\n",
              "J0AAgHQCBABIJ0AAgHQCBABIJ0AAgHQCBABIJ0AAgHQCBABIJ0AAgHQCBABIJ0AAgHQCBABIJ0AA\n",
              "gHQCBABIJ0AAgHQCBABIJ0AAgHQCBABIJ0AAgHQCBABIJ0AAgHQCBABIJ0AAgHQCBABIJ0AAgHQC\n",
              "BABIJ0AAgHQCBABIJ0AAgHQCBABIJ0AAgHQCBABIJ0AAgHQCBABIJ0AAgHQCBABIJ0AAgHQCBABI\n",
              "J0AAgHQCBABIJ0AAgHQCBABI11LrgW+99dZffv7444//18MAAMNDzQFy3XXXRUREX19frFq1Kjo7\n",
              "O6OpqSnWrl0bU6ZMiZUrV9ZtSACgsdR8CWbFihWxYsWKmDJlSrz66quxZs2aWL16dbz22msxderU\n",
              "es4IADSYv30PyPvvvx8nn3zywOOTTjopVqxYsUOHAgAa298OkObm5njzzTcHHi9fvjx22cW9rABA\n",
              "7Wq+B+Q3DzzwQMydOzdGjBgRERG9vb2xdOnSHT4YANC4/naAHHPMMbF27dr4/PPPIyLikEMOGYgR\n",
              "AIBa1BwgP//8c+y6667R3d0dERHt7e0REbFly5bYsmVLjBo1qj4TAgANp+YAmTFjRqxcuTLGjBkT\n",
              "TU1NUUoZ9GtfX1895wQAGkjNAfLb//PR399ft2EAgOHBt68AAOkECACQToAAAOkECACQToAAAOkE\n",
              "CACQToAAAOkECACQToAAAOkECACQToAAAOkECACQToAAAOkECACQToAAAOkECACQToAAAOkECACQ\n",
              "ToAAAOkECACQToAAAOkECACQToAAAOkECACQToAAAOkECACQToAAAOkECACQToAAAOkECACQToAA\n",
              "AOkECACQToAAAOkECACQToAAAOkECACQToAAAOkECACQToAAAOmaSiml6iH+zG6nHBVj5p5Y9RgA\n",
              "0FD+c9EdVY/gDAgAkE+AAADpBAgAkE6AAADpBAgAkE6AAADpBAgAkE6AAADpBAgAkE6AAADpBAgA\n",
              "kE6AAADpBAgAkE6AAADpBAgAkE6AAADpBAgAkE6AAADpBAgAkE6AAADpBAgAkE6AAADpBAgAkE6A\n",
              "AADpBAgAkE6AAADpBAgAkE6AAADpBAgAkE6AAADpBAgAkE6AAADpBAgAkE6AAADpBAgAkE6AAADp\n",
              "BAgAkE6AAADpBAgAkE6AAADpBAgAkK6uAfLjjz/GbrvtFpdcckk9XwYA2MnUNUCWLl0a06ZNi6ee\n",
              "eip++umner4UALATqWuALFmyJG644YY4/vjjY+nSpfV8KQBgJ9JSry/86aefxsaNG+OUU06J3t7e\n",
              "uOOOO/7yUkxPT0/09PQMfrKv1Gs8AKBCdTsDsmTJkrjggguiubk5Tj311Fi3bl189tlnf3r8woUL\n",
              "Y/To0YM+tq7bVK/xAIAKNZVSdvhphm3btkVbW1uMGDEiRowYERERP/zwQ8yfPz/uuuuu7f6e7Z0B\n",
              "+d8zTogx5520o8cDgGHtPxfdUfUI9bkE89xzz0VnZ2e8++67A8999tlnMXPmzFi4cOFAlPxea2tr\n",
              "tLa2Dn6yuake4wEAFavLJZglS5bEeeedN+i5CRMmRFtbWzz//PP1eEkAYCdSlzMgL7300nafX7ly\n",
              "ZT1eDgDYyfifUAGAdAIEAEgnQACAdAIEAEgnQACAdAIEAEgnQACAdAIEAEgnQACAdAIEAEgnQACA\n",
              "dAIEAEgnQACAdAIEAEgnQACAdAIEAEgnQACAdAIEAEgnQACAdAIEAEgnQACAdAIEAEgnQACAdAIE\n",
              "AEgnQACAdAIEAEgnQACAdAIEAEgnQACAdAIEAEgnQACAdAIEAEgnQACAdAIEAEgnQACAdAIEAEgn\n",
              "QACAdAIEAEgnQACAdAIEAEgnQACAdC1VD/BXLp04I+656I6qxwAAdjBnQACAdAIEAEgnQACAdAIE\n",
              "AEgnQACAdAIEAEgnQACAdAIEAEgnQACAdAIEAEgnQACAdAIEAEgnQACAdAIEAEgnQACAdAIEAEgn\n",
              "QACAdAIEAEgnQACAdAIEAEgnQACAdAIEAEgnQACAdAIEAEgnQACAdAIEAEgnQACAdAIEAEgnQACA\n",
              "dAIEAEgnQACAdAIEAEgnQACAdAIEAEgnQACAdAIEAEgnQACAdAIEAEgnQACAdAIEAEgnQACAdAIE\n",
              "AEgnQACAdAIEAEgnQACAdC1VD/Bnenp64uWXX46+vr5obm6uepxho6+vL957772YPn26vSez+2rY\n",
              "e3XsvhoZe29vb4+rr776L49pKqWUurz6v9Td3R2jR4+OzZs3x6hRo6oeZ9iw9+rYfTXsvTp2X42h\n",
              "sneXYACAdAIEAEgnQACAdEM2QFpbW+Pmm2+O1tbWqkcZVuy9OnZfDXuvjt1XY6jsfcjehAoANK4h\n",
              "ewYEAGhcAgQASCdAAIB0lQfI6tWr45hjjomDDjoojjrqqPjkk0+2e9ySJUti/PjxccABB8T8+fNj\n",
              "27ZtyZM2llr2vmzZspg+fXoceuihMXHixFiwYEH09/dXMG1jqfXPfEREKSVOOOGEGDNmTN6ADarW\n",
              "vX/00Ucxc+bMmDBhQkyYMCGeeuqp5EkbTy277+/vj2uvvTYOPfTQOPzww2PWrFmxZs2aCqZtDFdd\n",
              "dVV0dHREU1NTrFq16k+Pq/S9tVRs1qxZ5eGHHy6llPL444+XI4888g/HfPHFF2Xs2LFl06ZNpb+/\n",
              "v8yZM6fcf//9yZM2llr2vnLlyrJ27dpSSilbtmwpxx577MDv4Z+rZfe/ufvuu8u8efPK6NGjc4Zr\n",
              "YLXs/eeffy77779/efvtt0sppfT29pZvv/02c8yGVMvun3766TJ9+vSydevWUkopt912WznrrLMy\n",
              "x2woy5cvLxs3bizt7e3lgw8+2O4xVb+3Vhog33zzTdl9993Ltm3bSiml9Pf3l7333rusXr160HF3\n",
              "3nlnueyyywYev/jii+XYY49NnbWR1Lr3/+/KK68sN998c8KEjevv7P7jjz8uM2bMKGvWrBEg/1Kt\n",
              "e1+8eHE599xzqxixYdW6+2eeeaZMnjy5dHd3l/7+/nL99deXa665poqRG8pfBUjV762VXoLZuHFj\n",
              "jB07Nlpa/vsz8ZqammLcuHGxYcOGQcdt2LAh2tvbBx53dHT84RhqV+vef+/rr7+OJ554Ik477bSs\n",
              "MRtSrbvftm1bzJ8/PxYtWuSHdO0Ate79008/jdbW1jjttNNiypQpccEFF8R3331XxcgNo9bdz5kz\n",
              "J2bOnBn77LNPjB07Nt5444249dZbqxh52Kj6vbXye0AY+rq7u2POnDmxYMGCOPLII6seZ1i45ZZb\n",
              "4owzzogJEyZUPcqw0tvbG6+//nosWrQoPvjgg2hra4srrrii6rGGhffffz8+/vjj+PLLL+Orr76K\n",
              "E088MS6//PKqx6KOKg2Q/fbbLzZt2hS9vb0R8d8b7jZs2BDjxo0bdNy4ceNi/fr1A4+7urr+cAy1\n",
              "q3XvERE//vhjzJ49O04//fS49tprs0dtOLXufvny5XHfffdFR0dHHHfccdHd3R0dHR3+Nf4P/Z2/\n",
              "a2bNmhVtbW3R1NQU559/frz77rtVjNwwat39o48+OnDD9S677BIXXnhhvPnmm1WMPGxU/d5aaYDs\n",
              "tddeMXXq1HjsscciIuLJJ5+MfffdNw488MBBx5155pnx3HPPxddffx2llHjwwQdj7ty5VYzcEGrd\n",
              "+08//RSzZ8+O2bNnx0033VTFqA2n1t2//fbbsX79+ujq6op33nknRo0aFV1dXbHnnntWMfZOr9a9\n",
              "n3322bFixYro7u6OiIiXXnopJk+enD5vI6l1952dnbFs2bLYunVrRES88MILcdhhh6XPO5xU/t6a\n",
              "drfJn/j888/L0UcfXcaPH1+mTZtWPvzww1JKKZdcckl59tlnB4576KGHSmdnZ+ns7CwXX3zxwJ3S\n",
              "/DO17P32228vLS0tZfLkyQMft99+e5VjN4Ra/8z/Zt26dW5C3QFq3fujjz5aJk6cWCZNmlRmz55d\n",
              "NmzYUNXIDaOW3f/6669l3rx55ZBDDimTJk0qJ5988sB34fH3XXrppaWtra00NzeXvfbaqxxwwAGl\n",
              "lKH13upnwQAA6dyECgCkEyAAQDoBAgCkEyAAQDoBAgCkEyAAQDoBAgCkEyAAQDoBAgCkEyAAQDoB\n",
              "AgCk+z9BGlGpJgNNqwAAAABJRU5ErkJggg==\n",
              "\">\n",
              "      </div>\n",
              "      <script type=\"text/javascript\">\n",
              "        (() => {\n",
              "          const chartElement = document.getElementById(\"chart-94d99e60-c3cd-463d-b584-98412f20601b\");\n",
              "          async function getCodeForChartHandler(event) {\n",
              "            const chartCodeResponse =  await google.colab.kernel.invokeFunction(\n",
              "                'getCodeForChart', [\"chart-94d99e60-c3cd-463d-b584-98412f20601b\"], {});\n",
              "            const responseJson = chartCodeResponse.data['application/json'];\n",
              "            await google.colab.notebook.addCell(responseJson.code, 'code');\n",
              "          }\n",
              "          chartElement.onclick = getCodeForChartHandler;\n",
              "        })();\n",
              "      </script>\n",
              "      <style>\n",
              "        .colab-quickchart-chart-with-code  {\n",
              "            display: block;\n",
              "            float: left;\n",
              "            border: 1px solid transparent;\n",
              "        }\n",
              "\n",
              "        .colab-quickchart-chart-with-code:hover {\n",
              "            cursor: pointer;\n",
              "            border: 1px solid #aaa;\n",
              "        }\n",
              "      </style>"
            ]
          },
          "metadata": {}
        }
      ],
      "source": [
        "import pandas as pd\n",
        "\n",
        "df = pd.DataFrame(\n",
        "    data={\n",
        "        \"id\": [\"A\", \"B\"],\n",
        "        \"vector\": [[1., 1., 1.], [1., 2., 3.]]\n",
        "    })\n",
        "df"
      ]
    },
    {
      "cell_type": "markdown",
      "id": "oiJKXWxoDjhK",
      "metadata": {
        "id": "oiJKXWxoDjhK",
        "papermill": {
          "duration": 0.022968,
          "end_time": "2021-04-16T15:09:05.452054",
          "exception": false,
          "start_time": "2021-04-16T15:09:05.429086",
          "status": "completed"
        },
        "tags": []
      },
      "source": [
        "We perform upsert operations in our index. This call will insert a new vector in the index or update the vector if the id was already present."
      ]
    },
    {
      "cell_type": "code",
      "execution_count": 10,
      "id": "efficient-parliament",
      "metadata": {
        "colab": {
          "base_uri": "https://localhost:8080/"
        },
        "execution": {
          "iopub.execute_input": "2021-04-16T15:09:05.506668Z",
          "iopub.status.busy": "2021-04-16T15:09:05.505145Z",
          "iopub.status.idle": "2021-04-16T15:09:06.180038Z",
          "shell.execute_reply": "2021-04-16T15:09:06.179012Z"
        },
        "id": "efficient-parliament",
        "outputId": "0b875168-7fc7-48af-8187-09a5c84cfa13",
        "papermill": {
          "duration": 0.704503,
          "end_time": "2021-04-16T15:09:06.180549",
          "exception": false,
          "start_time": "2021-04-16T15:09:05.476046",
          "status": "completed"
        },
        "tags": []
      },
      "outputs": [
        {
          "output_type": "execute_result",
          "data": {
            "text/plain": [
              "{'upserted_count': 2}"
            ]
          },
          "metadata": {},
          "execution_count": 10
        }
      ],
      "source": [
        "index.upsert(vectors=zip(df.id, df.vector))  # insert vectors"
      ]
    },
    {
      "cell_type": "code",
      "execution_count": 11,
      "id": "enclosed-performer",
      "metadata": {
        "colab": {
          "base_uri": "https://localhost:8080/"
        },
        "execution": {
          "iopub.execute_input": "2021-04-16T15:09:06.242684Z",
          "iopub.status.busy": "2021-04-16T15:09:06.241999Z",
          "iopub.status.idle": "2021-04-16T15:09:06.350759Z",
          "shell.execute_reply": "2021-04-16T15:09:06.351713Z"
        },
        "id": "enclosed-performer",
        "outputId": "9647d947-7806-4372-a504-7f90e6677f06",
        "papermill": {
          "duration": 0.140473,
          "end_time": "2021-04-16T15:09:06.352169",
          "exception": false,
          "start_time": "2021-04-16T15:09:06.211696",
          "status": "completed"
        },
        "tags": []
      },
      "outputs": [
        {
          "output_type": "execute_result",
          "data": {
            "text/plain": [
              "{'dimension': 3,\n",
              " 'index_fullness': 0.0,\n",
              " 'namespaces': {},\n",
              " 'total_vector_count': 0}"
            ]
          },
          "metadata": {},
          "execution_count": 11
        }
      ],
      "source": [
        "index.describe_index_stats()"
      ]
    },
    {
      "cell_type": "code",
      "execution_count": 12,
      "id": "leading-shape",
      "metadata": {
        "colab": {
          "base_uri": "https://localhost:8080/"
        },
        "execution": {
          "iopub.execute_input": "2021-04-16T15:09:06.422440Z",
          "iopub.status.busy": "2021-04-16T15:09:06.420935Z",
          "iopub.status.idle": "2021-04-16T15:09:08.564221Z",
          "shell.execute_reply": "2021-04-16T15:09:08.563202Z"
        },
        "id": "leading-shape",
        "outputId": "605c56f1-2d4c-44dd-d099-61a24c726ba7",
        "papermill": {
          "duration": 2.177493,
          "end_time": "2021-04-16T15:09:08.564594",
          "exception": false,
          "start_time": "2021-04-16T15:09:06.387101",
          "status": "completed"
        },
        "tags": []
      },
      "outputs": [
        {
          "output_type": "execute_result",
          "data": {
            "text/plain": [
              "{'matches': [], 'namespace': ''}"
            ]
          },
          "metadata": {},
          "execution_count": 12
        }
      ],
      "source": [
        "index.query(\n",
        "    vector=[2., 2., 2.],\n",
        "    top_k=5,\n",
        "    include_values=True) # returns top_k matches"
      ]
    },
    {
      "cell_type": "markdown",
      "id": "z5jcU5_SLMFC",
      "metadata": {
        "id": "z5jcU5_SLMFC",
        "papermill": {
          "duration": 0.035627,
          "end_time": "2021-04-16T15:09:08.629172",
          "exception": false,
          "start_time": "2021-04-16T15:09:08.593545",
          "status": "completed"
        },
        "tags": []
      },
      "source": [
        "## Delete the Index\n",
        "Delete the index once you are sure that you do not want to use it anymore. Once the index is deleted, you cannot use it again."
      ]
    },
    {
      "cell_type": "code",
      "execution_count": 13,
      "id": "indian-broadcast",
      "metadata": {
        "execution": {
          "iopub.execute_input": "2021-04-16T15:09:08.698129Z",
          "iopub.status.busy": "2021-04-16T15:09:08.697250Z",
          "iopub.status.idle": "2021-04-16T15:09:21.171092Z",
          "shell.execute_reply": "2021-04-16T15:09:21.170231Z"
        },
        "id": "indian-broadcast",
        "papermill": {
          "duration": 12.505772,
          "end_time": "2021-04-16T15:09:21.171527",
          "exception": false,
          "start_time": "2021-04-16T15:09:08.665755",
          "status": "completed"
        },
        "tags": []
      },
      "outputs": [],
      "source": [
        "pinecone.delete_index(index_name)"
      ]
    }
  ],
  "metadata": {
    "colab": {
      "provenance": []
    },
    "kernelspec": {
      "display_name": "Python 3",
      "language": "python",
      "name": "python3"
    },
    "language_info": {
      "codemirror_mode": {
        "name": "ipython",
        "version": 3
      },
      "file_extension": ".py",
      "mimetype": "text/x-python",
      "name": "python",
      "nbconvert_exporter": "python",
      "pygments_lexer": "ipython3",
      "version": "3.10.10"
    },
    "papermill": {
      "default_parameters": {},
      "duration": 52.201461,
      "end_time": "2021-04-16T15:09:21.730976",
      "environment_variables": {},
      "exception": null,
      "input_path": "/notebooks/quick_tour/hello_pinecone.ipynb",
      "output_path": "/notebooks/tmp/quick_tour/hello_pinecone.ipynb",
      "parameters": {},
      "start_time": "2021-04-16T15:08:29.529515",
      "version": "2.3.3"
    }
  },
  "nbformat": 4,
  "nbformat_minor": 5
}